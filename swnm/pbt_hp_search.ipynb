{
  "cells": [
    {
      "cell_type": "markdown",
      "metadata": {
        "id": "nFbqS-cI9sBl"
      },
      "source": [
        "# Imports and Functions"
      ]
    },
    {
      "cell_type": "code",
      "execution_count": null,
      "metadata": {
        "colab": {
          "base_uri": "https://localhost:8080/"
        },
        "id": "OIyQaaBG0diB",
        "outputId": "1e699518-0c87-4b66-88a9-67967ad36f10"
      },
      "outputs": [],
      "source": [
        "# gpu_info = !nvidia-smi\n",
        "# gpu_info = '\\n'.join(gpu_info)\n",
        "# if gpu_info.find('failed') >= 0:\n",
        "#   print('Not connected to a GPU')\n",
        "# else:\n",
        "#   print(gpu_info)"
      ]
    },
    {
      "cell_type": "code",
      "execution_count": null,
      "metadata": {
        "colab": {
          "base_uri": "https://localhost:8080/"
        },
        "id": "Tquh-SkP0yKA",
        "outputId": "2f880e77-2001-4655-82cc-35cd99458856"
      },
      "outputs": [],
      "source": [
        "!pip install datasets -q\n",
        "!pip install numpyencoder\n",
        "!pip install seqeval -q\n",
        "!pip install tokenizers -q\n",
        "!pip install transformers -q\n",
        "#!pip install optuna -q\n",
        "!pip install -Uq ray[tune] wandb"
      ]
    },
    {
      "cell_type": "code",
      "execution_count": null,
      "metadata": {
        "id": "tmEKe6E_-H12"
      },
      "outputs": [],
      "source": [
        "import os\n",
        "import itertools\n",
        "import pathlib\n",
        "import json\n",
        "import numpy as np\n",
        "import pandas as pd\n",
        "import tensorflow as tf\n",
        "import time\n",
        "from numpyencoder import NumpyEncoder\n",
        "from sklearn.model_selection import train_test_split\n",
        "from transformers import AutoTokenizer, TrainingArguments, Trainer\n",
        "from transformers import AutoModelForTokenClassification, DataCollatorForTokenClassification\n",
        "from datasets import load_metric\n",
        "from ray.tune.schedulers import PopulationBasedTraining\n",
        "from ray.tune.logger import DEFAULT_LOGGERS\n",
        "from ray import tune\n",
        "from ray.tune.integration.wandb import WandbLoggerCallback\n",
        "import wandb"
      ]
    },
    {
      "cell_type": "code",
      "execution_count": null,
      "metadata": {
        "id": "9Bo7o20b9za7"
      },
      "outputs": [],
      "source": [
        "# Dataset functions\n",
        "def pandas2json(df, fname: str):\n",
        "    \"\"\"Convert pandas to json file\n",
        "    Args:\n",
        "        df (pd.DataFrame): Dataframe Object\n",
        "        fname (str): file name\n",
        "    \"\"\"\n",
        "\n",
        "    texts = []\n",
        "    for i in range(len(df)):\n",
        "        text_dict = {\n",
        "            \"text\": df['text'].iloc[i],\n",
        "            \"tags\": df['tags'].iloc[i]\n",
        "        }\n",
        "        texts.append(text_dict)\n",
        "\n",
        "    with open(fname, 'w', encoding='utf8') as file:\n",
        "        for text in texts:\n",
        "            json.dump(text, file, ensure_ascii=False)\n",
        "            file.write('\\n')\n",
        "\n",
        "\n",
        "def json2dict(fname: str, mode='r', encoding='utf8'):\n",
        "    \"\"\"Loads data from a json file into a dict object\n",
        "    \"\"\"\n",
        "    with open(fname, mode, encoding=encoding) as jfile:\n",
        "        data = json.load(jfile)\n",
        "\n",
        "    return data\n",
        "\n",
        "\n",
        "def dict2json(data: list, fname: str,\n",
        "                sort_keys=False, indent=None):\n",
        "    \"\"\"Saves the data in a json file\n",
        "    Args:\n",
        "        data (list[dict]): data in NM format:\n",
        "            {'text': str,\n",
        "            'entities': list[{'start': int, 'end': int, 'label': str, 'value': str}],\n",
        "            'anottation_status': str,\n",
        "            'notes': str}\n",
        "        fname (str): output file\n",
        "    \"\"\"\n",
        "\n",
        "    with open(fname, 'w', encoding='utf8') as file:\n",
        "        json.dump(data, file, ensure_ascii=False,\n",
        "                    sort_keys=sort_keys, indent=indent,\n",
        "                    cls=NumpyEncoder)"
      ]
    },
    {
      "cell_type": "code",
      "execution_count": null,
      "metadata": {
        "id": "AzaGnIej_GDe"
      },
      "outputs": [],
      "source": [
        "# Tokenizing functions\n",
        "def get_ent_label(entity_name: str) -> int:\n",
        "    label_n = 0\n",
        "    if entity_name=='CABECALHO':\n",
        "        label_n=1\n",
        "    elif entity_name=='SUBCABECALHO':\n",
        "        label_n=3\n",
        "    else:\n",
        "        label_n=5\n",
        "    return label_n\n",
        "\n",
        "\n",
        "def create_label_vector(doc, input_ids, tokenizer):\n",
        "    vetor=np.zeros(512)\n",
        "    for ent_dict in doc['entities']:\n",
        "        ent_label = get_ent_label(ent_dict['label'])\n",
        "        entidade = doc['text'][ent_dict['start'] : ent_dict['end']]\n",
        "        tokenized_entity = tokenizer(entidade, is_split_into_words=False)\n",
        "\n",
        "        for token_idx, input_id in enumerate(input_ids):\n",
        "            entity_ids = tokenized_entity['input_ids']\n",
        "            if entity_ids[1] == input_id:\n",
        "                if entity_ids[1:-1] == input_ids[token_idx : token_idx+(len(entity_ids)-2)]:\n",
        "                    vetor[token_idx] = ent_label\n",
        "                    vetor[token_idx+1:token_idx+(len(entity_ids)-2)] = ent_label+1\n",
        "                    break\n",
        "\n",
        "    for idx, id in enumerate(input_ids):\n",
        "        if id == 101 or id ==102:\n",
        "            vetor[idx] = -100\n",
        "\n",
        "    return vetor.tolist()\n",
        "\n",
        "\n",
        "def tokenize_dataset(dataset, tokenizer, stride=0):\n",
        "    tokenized_dataset = []\n",
        "    for doc in dataset:\n",
        "        tokenized_text = tokenizer(doc['text'], padding='max_length', truncation=True,\n",
        "                                    stride = stride,\n",
        "                                    max_length=512, is_split_into_words=False,\n",
        "                                    return_overflowing_tokens=True,)\n",
        "\n",
        "        for idx, _ in enumerate(tokenized_text['overflow_to_sample_mapping']):\n",
        "            new_doc = {\n",
        "                'input_ids': tokenized_text.input_ids[idx],\n",
        "                'attention_mask': tokenized_text.attention_mask[idx],\n",
        "                'labels': create_label_vector(doc, tokenized_text.input_ids[idx], tokenizer),\n",
        "            }\n",
        "            tokenized_dataset.append(new_doc)\n",
        "\n",
        "    return tokenized_dataset"
      ]
    },
    {
      "cell_type": "markdown",
      "metadata": {
        "id": "r4LsE4Pq_pdL"
      },
      "source": [
        "# Dataset and globals"
      ]
    },
    {
      "cell_type": "code",
      "execution_count": null,
      "metadata": {
        "colab": {
          "base_uri": "https://localhost:8080/"
        },
        "id": "zZk_JMfAXHWj",
        "outputId": "d86ce3b7-055f-465f-93a4-3a1c2b00c8fb"
      },
      "outputs": [
        {
          "name": "stdout",
          "output_type": "stream",
          "text": [
            "Downloading...\n",
            "From: https://drive.google.com/uc?id=11Je1XKm0xsJE1K6sF0a7wm2FH3UWj2up\n",
            "To: /content/NM_dataset-train.json\n",
            "100% 8.66M/8.66M [00:00<00:00, 30.8MB/s]\n",
            "Downloading...\n",
            "From: https://drive.google.com/uc?id=1qJvpBiCBQKTW3zka5S5VrMPG_n2eolZY\n",
            "To: /content/NM_dataset-dev.json\n",
            "100% 2.91M/2.91M [00:00<00:00, 137MB/s]\n"
          ]
        }
      ],
      "source": [
        "#!gdown \"1XYdcOxnr-esES8bwKezTb6MYMfhQQriW\" # Full dataset\n",
        "!gdown \"11Je1XKm0xsJE1K6sF0a7wm2FH3UWj2up\" # Train\n",
        "!gdown \"1qJvpBiCBQKTW3zka5S5VrMPG_n2eolZY\" # Dev"
      ]
    },
    {
      "cell_type": "code",
      "execution_count": null,
      "metadata": {
        "id": "koDOZ05m_4W5"
      },
      "outputs": [],
      "source": [
        "# globals\n",
        "current_dir = str(pathlib.Path('NM_dataset-train.json').parent.resolve()) + \"/\"\n",
        "train_path = current_dir + \"NM_dataset-train.json\"\n",
        "dev_path = current_dir + \"NM_dataset-dev.json\"\n",
        "treino = [doc for doc in json2dict(train_path)]\n",
        "teste = [doc for doc in json2dict(dev_path)]\n",
        "tokenizer = AutoTokenizer.from_pretrained('neuralmind/bert-base-portuguese-cased', do_lower_case=False)\n",
        "metric = load_metric(\"seqeval\")\n",
        "entities_names = ['COMECO RECORTE', 'CABECALHO', 'SUBCABECALHO']\n",
        "label_names={\n",
        "    0: 'O',\n",
        "    1: 'B-CABECALHO',\n",
        "    2: 'I-CABECALHO',\n",
        "    3: 'B-SUBCABECALHO',\n",
        "    4: 'I-SUBCABECALHO',\n",
        "    5: 'B-COMECO_RECORTE',\n",
        "    6: 'I-COMECO_RECORTE',\n",
        "}\n",
        "stride = 256"
      ]
    },
    {
      "cell_type": "markdown",
      "metadata": {
        "id": "KfdDVT1Gktbc"
      },
      "source": [
        "# Trainer"
      ]
    },
    {
      "cell_type": "code",
      "execution_count": null,
      "metadata": {
        "id": "gyaTKmZnksOa"
      },
      "outputs": [],
      "source": [
        "def return_metrics(trainer) -> dict:\n",
        "    predictions, labels, _ = trainer.predict(teste)\n",
        "    predictions = np.argmax(predictions, axis=2)\n",
        "\n",
        "    # Remove ignored index (special tokens)\n",
        "    true_predictions = [\n",
        "        [trainer.label_names[p] for (p, l) in zip(prediction, label) if l != -100]\n",
        "        for prediction, label in zip(predictions, labels)\n",
        "    ]\n",
        "    true_labels = [\n",
        "        [trainer.label_names[l] for (p, l) in zip(prediction, label) if l != -100]\n",
        "        for prediction, label in zip(predictions, labels)\n",
        "    ]\n",
        "\n",
        "    return trainer.metric.compute(predictions=true_predictions, references=true_labels)\n",
        "\n",
        "    \n",
        "def model_init():\n",
        "    return AutoModelForTokenClassification.from_pretrained(\"neuralmind/bert-base-portuguese-cased\", num_labels=7)\n",
        "\n",
        "def compute_metrics(p):\n",
        "    predictions, labels = p\n",
        "    predictions = np.argmax(predictions, axis=2)\n",
        "\n",
        "    # Remove ignored index (special tokens)\n",
        "    true_predictions = [\n",
        "        [label_names[p] for (p, l) in zip(prediction, label) if l != -100]\n",
        "        for prediction, label in zip(predictions, labels)\n",
        "    ]\n",
        "    true_labels = [\n",
        "        [label_names[l] for (p, l) in zip(prediction, label) if l != -100]\n",
        "        for prediction, label in zip(predictions, labels)\n",
        "    ]\n",
        "\n",
        "    results = metric.compute(predictions=true_predictions, references=true_labels)\n",
        "\n",
        "    return {\n",
        "            \"precision\": results[\"overall_precision\"],\n",
        "            \"recall\": results[\"overall_recall\"],\n",
        "            \"f1\": results[\"overall_f1\"],\n",
        "            #\"accuracy\": results[\"overall_accuracy\"],\n",
        "            }\n"
      ]
    },
    {
      "cell_type": "code",
      "execution_count": null,
      "metadata": {
        "colab": {
          "base_uri": "https://localhost:8080/",
          "height": 1000,
          "referenced_widgets": [
            "ed8c6df2b372441c9780a1fe0511f09d",
            "02987c2a8f3d401193c41125ac7d60c1",
            "8e23a431b4eb429eb59b7908d4718813",
            "f196c0c1c015438690b6f1090892a624",
            "12a9ce87c63c4d53aec416e56510ede6",
            "a914f0048386469da74fe6ceb55f7144",
            "942c72eb1fe842b2afe0f1e5200600aa",
            "f582c87f8b644a1bb16f4ca49310ccc2",
            "25a93c25e4224202a89bb301d9063a79",
            "52dc1de35a294356aca2ccff2e034009",
            "a83dc9d92e9d42f594301fbb84c08742"
          ]
        },
        "id": "TMtqVe9__Ojb",
        "outputId": "a19db98c-3590-4b76-dd1a-b633c13508bb"
      },
      "outputs": [],
      "source": [
        "# Tokenização\n",
        "treino = tokenize_dataset(treino, tokenizer,\n",
        "                            stride=stride)\n",
        "teste = tokenize_dataset(teste, tokenizer,\n",
        "                            stride=stride)\n",
        "\n",
        "data_collator = DataCollatorForTokenClassification(tokenizer)\n",
        "\n",
        "hyperparameters={\n",
        "    'learning_rate': 4.076831342095183e-05,\n",
        "    'num_train_epochs': 3,\n",
        "    'per_device_train_batch_size': 4\n",
        "}\n",
        "\n",
        "batch_size = hyperparameters['per_device_train_batch_size']\n",
        "logging_steps = len(treino) // batch_size\n",
        "epochs = hyperparameters['num_train_epochs']\n",
        "\n",
        "training_args = TrainingArguments(\n",
        "    output_dir = \"results\",\n",
        "    num_train_epochs = epochs,\n",
        "    per_device_train_batch_size = batch_size,\n",
        "    per_device_eval_batch_size = batch_size,\n",
        "    evaluation_strategy = \"epoch\",\n",
        "    metric_for_best_model = \"f1\",\n",
        "    disable_tqdm = False,\n",
        "    logging_steps = logging_steps,\n",
        "    gradient_accumulation_steps = 2,\n",
        "    eval_accumulation_steps = 2,\n",
        "    learning_rate = hyperparameters['learning_rate'],\n",
        ")\n",
        "\n",
        "trainer = Trainer(\n",
        "    model_init=model_init,\n",
        "    args=training_args,\n",
        "    train_dataset=treino,\n",
        "    eval_dataset=teste,\n",
        "    data_collator=data_collator,\n",
        "    tokenizer=tokenizer,\n",
        "    compute_metrics=compute_metrics\n",
        ")"
      ]
    },
    {
      "cell_type": "markdown",
      "metadata": {
        "id": "U7mKvBe_uvgL"
      },
      "source": [
        "# PBT"
      ]
    },
    {
      "cell_type": "code",
      "execution_count": null,
      "metadata": {
        "colab": {
          "base_uri": "https://localhost:8080/",
          "height": 1000
        },
        "id": "hluQ4V8nFQbP",
        "outputId": "b24be737-83ab-44ba-d513-b0f5827f9c1a"
      },
      "outputs": [],
      "source": [
        "def my_objective(metrics):\n",
        "    return metrics[\"eval_f1\"]\n",
        "\n",
        "pbt_scheduler = PopulationBasedTraining(\n",
        "    time_attr='training_iteration',\n",
        "    metric=my_objective,\n",
        "    mode='max',\n",
        "    perturbation_interval=600.0,\n",
        "    hyperparam_mutations={\n",
        "        \"learning_rate\": tune.loguniform(6e-6, 1e-3),\n",
        "        \"num_train_epochs\": tune.choice(range(5, 15)),\n",
        "        # \"seed\": tune.choice(range(1, 41)),\n",
        "        \"per_device_train_batch_size\": tune.choice([4, 8, 16]),\n",
        "    })\n",
        "\n",
        "wandb.init(reinit=True,config={\n",
        "    \"project\": \"PBT_Optimization_Project\",\n",
        "    \"entity\": \"chinagab\",\n",
        "    \"api_key\": \"7d7deda5ab99137996e34e47dc688b1d6b4d179c\",\n",
        "    \"log_config\": True\n",
        "})\n",
        "\n",
        "best_trial = trainer.hyperparameter_search(\n",
        "    backend=\"ray\",\n",
        "    direction=\"maximize\",\n",
        "    keep_checkpoints_num=1,\n",
        "    scheduler=pbt_scheduler,\n",
        ")"
      ]
    },
    {
      "cell_type": "code",
      "execution_count": null,
      "metadata": {
        "id": "938cCSFtr7qQ"
      },
      "outputs": [],
      "source": [
        "trainer.args"
      ]
    },
    {
      "cell_type": "code",
      "execution_count": null,
      "metadata": {
        "id": "Psi4JymeIrJs"
      },
      "outputs": [],
      "source": [
        "best_trial"
      ]
    },
    {
      "cell_type": "code",
      "execution_count": null,
      "metadata": {
        "id": "QwGtLALZCmjI"
      },
      "outputs": [],
      "source": [
        "hyperparameters={'learning_rate': 4.076831342095183e-05, \n",
        "                 'num_train_epochs': 12, \n",
        "                 'per_device_train_batch_size': 4}"
      ]
    },
    {
      "cell_type": "code",
      "execution_count": null,
      "metadata": {
        "id": "05FNx8tgC2_1"
      },
      "outputs": [],
      "source": [
        "for n, v in hyperparameters.items():\n",
        "    print (n)\n",
        "    setattr(trainer.args, n, v)\n",
        "\n",
        "trainer.train()"
      ]
    },
    {
      "cell_type": "code",
      "execution_count": null,
      "metadata": {
        "id": "EnbV685hI6G4"
      },
      "outputs": [],
      "source": [
        "predictions, labels, _ = trainer.predict(teste)\n",
        "\n",
        "predictions = np.argmax(predictions, axis=2)\n",
        "\n",
        "# Remove ignored index (special tokens)\n",
        "\n",
        "true_predictions = [\n",
        "\n",
        "[label_names[p] for (p, l) in zip(prediction, label) if l != -100]\n",
        "\n",
        "for prediction, label in zip(predictions, labels)\n",
        "\n",
        "]\n",
        "\n",
        "true_labels = [\n",
        "\n",
        "[label_names[l] for (p, l) in zip(prediction, label) if l != -100]\n",
        "\n",
        "for prediction, label in zip(predictions, labels)\n",
        "\n",
        "]\n",
        "print(type(true_predictions))\n",
        "results = metric.compute(predictions=true_predictions, references=true_labels)\n",
        "\n",
        "results"
      ]
    }
  ],
  "metadata": {
    "colab": {
      "provenance": []
    },
    "gpuClass": "premium",
    "kernelspec": {
      "display_name": "Python 3",
      "name": "python3"
    },
    "language_info": {
      "name": "python"
    },
    "widgets": {
      "application/vnd.jupyter.widget-state+json": {
        "02987c2a8f3d401193c41125ac7d60c1": {
          "model_module": "@jupyter-widgets/controls",
          "model_module_version": "1.5.0",
          "model_name": "HTMLModel",
          "state": {
            "_dom_classes": [],
            "_model_module": "@jupyter-widgets/controls",
            "_model_module_version": "1.5.0",
            "_model_name": "HTMLModel",
            "_view_count": null,
            "_view_module": "@jupyter-widgets/controls",
            "_view_module_version": "1.5.0",
            "_view_name": "HTMLView",
            "description": "",
            "description_tooltip": null,
            "layout": "IPY_MODEL_a914f0048386469da74fe6ceb55f7144",
            "placeholder": "​",
            "style": "IPY_MODEL_942c72eb1fe842b2afe0f1e5200600aa",
            "value": "Downloading: 100%"
          }
        },
        "12a9ce87c63c4d53aec416e56510ede6": {
          "model_module": "@jupyter-widgets/base",
          "model_module_version": "1.2.0",
          "model_name": "LayoutModel",
          "state": {
            "_model_module": "@jupyter-widgets/base",
            "_model_module_version": "1.2.0",
            "_model_name": "LayoutModel",
            "_view_count": null,
            "_view_module": "@jupyter-widgets/base",
            "_view_module_version": "1.2.0",
            "_view_name": "LayoutView",
            "align_content": null,
            "align_items": null,
            "align_self": null,
            "border": null,
            "bottom": null,
            "display": null,
            "flex": null,
            "flex_flow": null,
            "grid_area": null,
            "grid_auto_columns": null,
            "grid_auto_flow": null,
            "grid_auto_rows": null,
            "grid_column": null,
            "grid_gap": null,
            "grid_row": null,
            "grid_template_areas": null,
            "grid_template_columns": null,
            "grid_template_rows": null,
            "height": null,
            "justify_content": null,
            "justify_items": null,
            "left": null,
            "margin": null,
            "max_height": null,
            "max_width": null,
            "min_height": null,
            "min_width": null,
            "object_fit": null,
            "object_position": null,
            "order": null,
            "overflow": null,
            "overflow_x": null,
            "overflow_y": null,
            "padding": null,
            "right": null,
            "top": null,
            "visibility": null,
            "width": null
          }
        },
        "25a93c25e4224202a89bb301d9063a79": {
          "model_module": "@jupyter-widgets/controls",
          "model_module_version": "1.5.0",
          "model_name": "ProgressStyleModel",
          "state": {
            "_model_module": "@jupyter-widgets/controls",
            "_model_module_version": "1.5.0",
            "_model_name": "ProgressStyleModel",
            "_view_count": null,
            "_view_module": "@jupyter-widgets/base",
            "_view_module_version": "1.2.0",
            "_view_name": "StyleView",
            "bar_color": null,
            "description_width": ""
          }
        },
        "52dc1de35a294356aca2ccff2e034009": {
          "model_module": "@jupyter-widgets/base",
          "model_module_version": "1.2.0",
          "model_name": "LayoutModel",
          "state": {
            "_model_module": "@jupyter-widgets/base",
            "_model_module_version": "1.2.0",
            "_model_name": "LayoutModel",
            "_view_count": null,
            "_view_module": "@jupyter-widgets/base",
            "_view_module_version": "1.2.0",
            "_view_name": "LayoutView",
            "align_content": null,
            "align_items": null,
            "align_self": null,
            "border": null,
            "bottom": null,
            "display": null,
            "flex": null,
            "flex_flow": null,
            "grid_area": null,
            "grid_auto_columns": null,
            "grid_auto_flow": null,
            "grid_auto_rows": null,
            "grid_column": null,
            "grid_gap": null,
            "grid_row": null,
            "grid_template_areas": null,
            "grid_template_columns": null,
            "grid_template_rows": null,
            "height": null,
            "justify_content": null,
            "justify_items": null,
            "left": null,
            "margin": null,
            "max_height": null,
            "max_width": null,
            "min_height": null,
            "min_width": null,
            "object_fit": null,
            "object_position": null,
            "order": null,
            "overflow": null,
            "overflow_x": null,
            "overflow_y": null,
            "padding": null,
            "right": null,
            "top": null,
            "visibility": null,
            "width": null
          }
        },
        "8e23a431b4eb429eb59b7908d4718813": {
          "model_module": "@jupyter-widgets/controls",
          "model_module_version": "1.5.0",
          "model_name": "FloatProgressModel",
          "state": {
            "_dom_classes": [],
            "_model_module": "@jupyter-widgets/controls",
            "_model_module_version": "1.5.0",
            "_model_name": "FloatProgressModel",
            "_view_count": null,
            "_view_module": "@jupyter-widgets/controls",
            "_view_module_version": "1.5.0",
            "_view_name": "ProgressView",
            "bar_style": "success",
            "description": "",
            "description_tooltip": null,
            "layout": "IPY_MODEL_f582c87f8b644a1bb16f4ca49310ccc2",
            "max": 438235074,
            "min": 0,
            "orientation": "horizontal",
            "style": "IPY_MODEL_25a93c25e4224202a89bb301d9063a79",
            "value": 438235074
          }
        },
        "942c72eb1fe842b2afe0f1e5200600aa": {
          "model_module": "@jupyter-widgets/controls",
          "model_module_version": "1.5.0",
          "model_name": "DescriptionStyleModel",
          "state": {
            "_model_module": "@jupyter-widgets/controls",
            "_model_module_version": "1.5.0",
            "_model_name": "DescriptionStyleModel",
            "_view_count": null,
            "_view_module": "@jupyter-widgets/base",
            "_view_module_version": "1.2.0",
            "_view_name": "StyleView",
            "description_width": ""
          }
        },
        "a83dc9d92e9d42f594301fbb84c08742": {
          "model_module": "@jupyter-widgets/controls",
          "model_module_version": "1.5.0",
          "model_name": "DescriptionStyleModel",
          "state": {
            "_model_module": "@jupyter-widgets/controls",
            "_model_module_version": "1.5.0",
            "_model_name": "DescriptionStyleModel",
            "_view_count": null,
            "_view_module": "@jupyter-widgets/base",
            "_view_module_version": "1.2.0",
            "_view_name": "StyleView",
            "description_width": ""
          }
        },
        "a914f0048386469da74fe6ceb55f7144": {
          "model_module": "@jupyter-widgets/base",
          "model_module_version": "1.2.0",
          "model_name": "LayoutModel",
          "state": {
            "_model_module": "@jupyter-widgets/base",
            "_model_module_version": "1.2.0",
            "_model_name": "LayoutModel",
            "_view_count": null,
            "_view_module": "@jupyter-widgets/base",
            "_view_module_version": "1.2.0",
            "_view_name": "LayoutView",
            "align_content": null,
            "align_items": null,
            "align_self": null,
            "border": null,
            "bottom": null,
            "display": null,
            "flex": null,
            "flex_flow": null,
            "grid_area": null,
            "grid_auto_columns": null,
            "grid_auto_flow": null,
            "grid_auto_rows": null,
            "grid_column": null,
            "grid_gap": null,
            "grid_row": null,
            "grid_template_areas": null,
            "grid_template_columns": null,
            "grid_template_rows": null,
            "height": null,
            "justify_content": null,
            "justify_items": null,
            "left": null,
            "margin": null,
            "max_height": null,
            "max_width": null,
            "min_height": null,
            "min_width": null,
            "object_fit": null,
            "object_position": null,
            "order": null,
            "overflow": null,
            "overflow_x": null,
            "overflow_y": null,
            "padding": null,
            "right": null,
            "top": null,
            "visibility": null,
            "width": null
          }
        },
        "ed8c6df2b372441c9780a1fe0511f09d": {
          "model_module": "@jupyter-widgets/controls",
          "model_module_version": "1.5.0",
          "model_name": "HBoxModel",
          "state": {
            "_dom_classes": [],
            "_model_module": "@jupyter-widgets/controls",
            "_model_module_version": "1.5.0",
            "_model_name": "HBoxModel",
            "_view_count": null,
            "_view_module": "@jupyter-widgets/controls",
            "_view_module_version": "1.5.0",
            "_view_name": "HBoxView",
            "box_style": "",
            "children": [
              "IPY_MODEL_02987c2a8f3d401193c41125ac7d60c1",
              "IPY_MODEL_8e23a431b4eb429eb59b7908d4718813",
              "IPY_MODEL_f196c0c1c015438690b6f1090892a624"
            ],
            "layout": "IPY_MODEL_12a9ce87c63c4d53aec416e56510ede6"
          }
        },
        "f196c0c1c015438690b6f1090892a624": {
          "model_module": "@jupyter-widgets/controls",
          "model_module_version": "1.5.0",
          "model_name": "HTMLModel",
          "state": {
            "_dom_classes": [],
            "_model_module": "@jupyter-widgets/controls",
            "_model_module_version": "1.5.0",
            "_model_name": "HTMLModel",
            "_view_count": null,
            "_view_module": "@jupyter-widgets/controls",
            "_view_module_version": "1.5.0",
            "_view_name": "HTMLView",
            "description": "",
            "description_tooltip": null,
            "layout": "IPY_MODEL_52dc1de35a294356aca2ccff2e034009",
            "placeholder": "​",
            "style": "IPY_MODEL_a83dc9d92e9d42f594301fbb84c08742",
            "value": " 438M/438M [00:09&lt;00:00, 59.0MB/s]"
          }
        },
        "f582c87f8b644a1bb16f4ca49310ccc2": {
          "model_module": "@jupyter-widgets/base",
          "model_module_version": "1.2.0",
          "model_name": "LayoutModel",
          "state": {
            "_model_module": "@jupyter-widgets/base",
            "_model_module_version": "1.2.0",
            "_model_name": "LayoutModel",
            "_view_count": null,
            "_view_module": "@jupyter-widgets/base",
            "_view_module_version": "1.2.0",
            "_view_name": "LayoutView",
            "align_content": null,
            "align_items": null,
            "align_self": null,
            "border": null,
            "bottom": null,
            "display": null,
            "flex": null,
            "flex_flow": null,
            "grid_area": null,
            "grid_auto_columns": null,
            "grid_auto_flow": null,
            "grid_auto_rows": null,
            "grid_column": null,
            "grid_gap": null,
            "grid_row": null,
            "grid_template_areas": null,
            "grid_template_columns": null,
            "grid_template_rows": null,
            "height": null,
            "justify_content": null,
            "justify_items": null,
            "left": null,
            "margin": null,
            "max_height": null,
            "max_width": null,
            "min_height": null,
            "min_width": null,
            "object_fit": null,
            "object_position": null,
            "order": null,
            "overflow": null,
            "overflow_x": null,
            "overflow_y": null,
            "padding": null,
            "right": null,
            "top": null,
            "visibility": null,
            "width": null
          }
        }
      }
    }
  },
  "nbformat": 4,
  "nbformat_minor": 0
}
